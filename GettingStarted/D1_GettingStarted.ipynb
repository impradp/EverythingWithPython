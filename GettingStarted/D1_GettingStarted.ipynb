{
 "cells": [
  {
   "cell_type": "markdown",
   "metadata": {
    "id": "xgIscmLDjRE3"
   },
   "source": [
    "# **Python(Basics)**\n",
    "## **Introduction**\n",
    "- High-level, interpreted programming language.\n",
    "- Created by Guido van Rossum in 1991 and further developed by the Python Software Foundation.\n",
    "\n",
    "## **Key Features**\n",
    "\n",
    "1.   Python is Easy to Learn and Use:\n",
    "      There is no prerequisite to start Python, since it is Ideal programming language for beginners.\n",
    "2.   High Level Language\n",
    "      Python don’t let you worry about low-level details, like memory management, hardware-level operations etc.\n",
    "3.   Python is Interpreted\n",
    "      Code is executed line-by-line directly by interpreter, and no need for separate compilation. Which means\n",
    "        - You can run the same code across different platforms.\n",
    "        - You can make the changes in code without restarting the program.\n",
    "4.   Dynamic Typed\n",
    "      Python is a dynamic language, meaning there are no need to explicitly declare the data type of a variable. Type is checked during runtime, not at compile time.\n",
    "5.   Object Oriented:\n",
    "      Python supports object-oriented concepts like classes, inheritance, and polymorphism etc. OOPs empowers Python with modularity, reusability and easy to maintain code.\n",
    "6.   Extensive Library are Available:\n",
    "      Python has huge set of library and modules, which can make development lot easier and faster."
   ]
  },
  {
   "cell_type": "markdown",
   "metadata": {
    "id": "YnHodqtZnLrX"
   },
   "source": [
    "## **Installation**\n",
    "Installing python in your machine is free and easy. Please click [this link](https://www.python.org/) to install python in your local machine.\n",
    "\n",
    "*Checking version after installation(using command prompt)*\n",
    "\n",
    "***python --version***"
   ]
  },
  {
   "cell_type": "code",
   "execution_count": null,
   "metadata": {
    "colab": {
     "base_uri": "https://localhost:8080/"
    },
    "executionInfo": {
     "elapsed": 1437,
     "status": "ok",
     "timestamp": 1735832393355,
     "user": {
      "displayName": "Pradip Puri",
      "userId": "14631458812066287520"
     },
     "user_tz": -345
    },
    "id": "_3Wrzlpdnncm",
    "outputId": "8b1c9547-b207-4f9b-808b-f9a741c3b505"
   },
   "outputs": [],
   "source": [
    "# my_version.py\n",
    "# Check version after installation using python script.\n",
    "import sys\n",
    "\n",
    "print(sys.version)"
   ]
  },
  {
   "cell_type": "code",
   "execution_count": null,
   "metadata": {
    "colab": {
     "base_uri": "https://localhost:8080/"
    },
    "executionInfo": {
     "elapsed": 426,
     "status": "ok",
     "timestamp": 1735832406049,
     "user": {
      "displayName": "Pradip Puri",
      "userId": "14631458812066287520"
     },
     "user_tz": -345
    },
    "id": "7YvPasuKjKqL",
    "outputId": "1be31bea-6f0f-4a2a-9d22-5bc6f322a3c0"
   },
   "outputs": [],
   "source": [
    "# Getting Started\n",
    "print(\"Hello World!\")"
   ]
  },
  {
   "cell_type": "markdown",
   "metadata": {
    "id": "7yxfJhwYmPyU"
   },
   "source": [
    "## **Usuages**\n",
    "\n",
    "\n",
    "1.   Web Development: Frameworks like Django, Flask.\n",
    "2.   Data Science and Analysis: Libraries like Pandas, NumPy, Matplotlib.\n",
    "3.   Machine Learning and AI: TensorFlow, PyTorch, Scikit-learn.\n",
    "4.   Automation and Scripting: Automate repetitive tasks.\n",
    "5.   Game Development: Libraries like Pygame.\n",
    "6.   Web Scraping: Tools like BeautifulSoup, Scrapy.\n",
    "7.   Desktop Applications: GUI frameworks like Tkinter, PyQt.\n",
    "8.   Scientific Computing: SciPy, SymPy.\n",
    "9.   Internet of Things (IoT): MicroPython, Raspberry Pi.\n",
    "10.  DevOps and Cloud: Automation scripts and APIs.\n",
    "11.  Cybersecurity: Penetration testing and ethical hacking tools.\n",
    "\n"
   ]
  },
  {
   "cell_type": "markdown",
   "metadata": {
    "id": "0n6xxD3toynv"
   },
   "source": [
    "## **Using inline python commands in terminal**\n",
    "\n",
    "```\n",
    "C:\\Users\\Your Name>python\n",
    "```\n",
    "Or\n",
    "```\n",
    "C:\\Users\\Your Name>py\n",
    "```\n",
    "\n",
    "\n",
    "## **Objective**\n",
    "- To test a short amount of code in python sometimes it is quickest and easiest not to write the code in a file.\n",
    "\n",
    "```\n",
    "C:\\Users\\Your Name>python\n",
    "Python 3.6.4 (v3.6.4:d48eceb, Dec 19 2024, 12:04:45) [MSC v.1900 32 bit (Intel)] on win32\n",
    "Type \"help\", \"copyright\", \"credits\" or \"license\" for more information.\n",
    ">>> print(\"Hello, World!\")\n",
    "Hello, World!\n",
    "```\n",
    "- In order to exit:\n",
    "\n",
    "```\n",
    ">>> exit()\n",
    "\n",
    "```\n",
    "\n",
    "- If you want to run your python file directly, then it can be done as below:\n",
    "```\n",
    "C:\\Users\\Your Name>python myfile.py\n",
    "```"
   ]
  },
  {
   "cell_type": "code",
   "execution_count": null,
   "metadata": {
    "colab": {
     "base_uri": "https://localhost:8080/"
    },
    "executionInfo": {
     "elapsed": 412,
     "status": "ok",
     "timestamp": 1735833266901,
     "user": {
      "displayName": "Pradip Puri",
      "userId": "14631458812066287520"
     },
     "user_tz": -345
    },
    "id": "WQ11Mn2rtxBL",
    "outputId": "04d317ca-8f9b-4d23-e3fb-d6451eb9a196"
   },
   "outputs": [],
   "source": [
    "# Python uses indentation to run your code. The indentation should be same for\n",
    "# all consecutive lines of code.\n",
    "\n",
    "if 5 > 2:\n",
    "  print(\"Five is greater than two!\")\n",
    "#  print(\"This is true\")"
   ]
  },
  {
   "cell_type": "markdown",
   "metadata": {
    "id": "ThB4CVYfvfwU"
   },
   "source": [
    "## **Variable Naming**\n",
    "\n",
    "In Python, variables are created when you assign a value to it. Below are the conventions used:\n",
    "\n",
    "1.  Use snake_case for variables and functions\n",
    "```\n",
    "user_name = \"John\"\n",
    "calculate_total = lambda x, y: x + y\n",
    "```\n",
    "2.  Constants in UPPERCASE\n",
    "```\n",
    "MAX_CONNECTIONS = 100\n",
    "PI = 3.14159\n",
    "```\n",
    "3.  Classes in PascalCase\n",
    "```\n",
    "class UserAccount:\n",
    "    # Service Implementation here\n",
    "```\n",
    "4.  Names should be descriptive but concise\n",
    "```\n",
    "# Good\n",
    "temperature = 22\n",
    "user_posts = []\n",
    "# Bad\n",
    "t = 22  # unclear\n",
    "list_of_all_user_posts_in_database = []  # too verbose\n",
    "```\n",
    "5.  Protected attributes start with underscore\n",
    "```\n",
    "_internal_value = 10\n",
    "```\n",
    "6.  Private attributes start with double underscore\n",
    "```\n",
    "__private_method = \"hidden\"\n",
    "```\n",
    "7.  Avoid reserved keywords like list, str, dict as variable names."
   ]
  },
  {
   "cell_type": "code",
   "execution_count": null,
   "metadata": {
    "colab": {
     "base_uri": "https://localhost:8080/"
    },
    "executionInfo": {
     "elapsed": 465,
     "status": "ok",
     "timestamp": 1735834567813,
     "user": {
      "displayName": "Pradip Puri",
      "userId": "14631458812066287520"
     },
     "user_tz": -345
    },
    "id": "0kzzr69NzR58",
    "outputId": "3d84aad4-2a94-40e8-8fb2-201d7f5b0886"
   },
   "outputs": [],
   "source": [
    "x = 4       # x is of type int\n",
    "print(x)\n",
    "x = \"Sally\" # x is now of type str\n",
    "print(x)"
   ]
  },
  {
   "cell_type": "code",
   "execution_count": null,
   "metadata": {
    "colab": {
     "base_uri": "https://localhost:8080/"
    },
    "executionInfo": {
     "elapsed": 459,
     "status": "ok",
     "timestamp": 1735834734166,
     "user": {
      "displayName": "Pradip Puri",
      "userId": "14631458812066287520"
     },
     "user_tz": -345
    },
    "id": "rNHp_ATozZHW",
    "outputId": "1a60e18e-8ebf-4824-c129-27762d3a0fb7"
   },
   "outputs": [],
   "source": [
    "# Type Casting\n",
    "# Basic type casting\n",
    "str_num = \"123\"\n",
    "int_num = int(str_num)    # 123\n",
    "float_num = float(str_num) # 123.0\n",
    "string = str(123)         # \"123\"\n",
    "\n",
    "print(str_num)\n",
    "print(int_num)\n",
    "print(float_num)\n",
    "print(string)\n",
    "\n",
    "# Lists/tuples\n",
    "list_to_tuple = tuple([1, 2, 3])  # (1, 2, 3)\n",
    "tuple_to_list = list((1, 2, 3))   # [1, 2, 3]\n",
    "print(list_to_tuple)\n",
    "print(tuple_to_list)\n",
    "\n",
    "# Sets/dictionaries\n",
    "list_to_set = set([1, 2, 2, 3])   # {1, 2, 3}\n",
    "dict_to_list = list({\"a\": 1}.keys()) # ['a']\n",
    "print(list_to_set)\n",
    "print(dict_to_list)\n",
    "\n",
    "# Boolean\n",
    "a = bool(1)      # True\n",
    "b = bool(\"\")     # False\n",
    "c = bool([])     # False\n",
    "d = bool(None)   # False\n",
    "print(a)\n",
    "print(b)\n",
    "print(c)\n",
    "print(d)"
   ]
  },
  {
   "cell_type": "code",
   "execution_count": null,
   "metadata": {
    "colab": {
     "base_uri": "https://localhost:8080/"
    },
    "executionInfo": {
     "elapsed": 450,
     "status": "ok",
     "timestamp": 1735834834162,
     "user": {
      "displayName": "Pradip Puri",
      "userId": "14631458812066287520"
     },
     "user_tz": -345
    },
    "id": "l_a_M05U0Ukj",
    "outputId": "6fc8b043-b2b8-470b-967a-85e2d8eb179d"
   },
   "outputs": [],
   "source": [
    "# Get Type\n",
    "x = 5\n",
    "y = \"John\"\n",
    "print(type(x))\n",
    "print(type(y))"
   ]
  },
  {
   "cell_type": "code",
   "execution_count": null,
   "metadata": {
    "colab": {
     "base_uri": "https://localhost:8080/"
    },
    "executionInfo": {
     "elapsed": 463,
     "status": "ok",
     "timestamp": 1735834886737,
     "user": {
      "displayName": "Pradip Puri",
      "userId": "14631458812066287520"
     },
     "user_tz": -345
    },
    "id": "Ocgq6Fdv0coJ",
    "outputId": "2c3ec9d8-257d-49dc-ee18-8a4e3cef547a"
   },
   "outputs": [],
   "source": [
    "# String creation using single or double quotes\n",
    "\n",
    "x = \"John\"\n",
    "print(x)\n",
    "# is the same as\n",
    "x = 'John'\n",
    "print(x)"
   ]
  },
  {
   "cell_type": "code",
   "execution_count": null,
   "metadata": {
    "colab": {
     "base_uri": "https://localhost:8080/"
    },
    "executionInfo": {
     "elapsed": 435,
     "status": "ok",
     "timestamp": 1735834951974,
     "user": {
      "displayName": "Pradip Puri",
      "userId": "14631458812066287520"
     },
     "user_tz": -345
    },
    "id": "eJpktECg0q2m",
    "outputId": "413b1b77-f9a3-44f9-a406-c830ef82bc04"
   },
   "outputs": [],
   "source": [
    "# Variables are Case Sensitive\n",
    "\n",
    "a = 4\n",
    "A = \"Sally\"\n",
    "#A will not overwrite a\n",
    "\n",
    "print(a)\n",
    "print(A)"
   ]
  },
  {
   "cell_type": "code",
   "execution_count": null,
   "metadata": {
    "colab": {
     "base_uri": "https://localhost:8080/"
    },
    "executionInfo": {
     "elapsed": 475,
     "status": "ok",
     "timestamp": 1735835101637,
     "user": {
      "displayName": "Pradip Puri",
      "userId": "14631458812066287520"
     },
     "user_tz": -345
    },
    "id": "yuyNlVdg1P_5",
    "outputId": "ed1c9172-de63-4fe9-bf64-3c6191056d8a"
   },
   "outputs": [],
   "source": [
    "# Assigning multiples variable values in single line\n",
    "\n",
    "x, y, z = \"Orange\", \"Banana\", \"Cherry\"\n",
    "print(x)\n",
    "print(y)\n",
    "print(z)"
   ]
  },
  {
   "cell_type": "code",
   "execution_count": null,
   "metadata": {
    "id": "ULxtHeN31eLi"
   },
   "outputs": [],
   "source": [
    "# Assigning multiple variables with single value\n",
    "x = y = z = \"Orange\"\n",
    "print(x)\n",
    "print(y)\n",
    "print(z)"
   ]
  },
  {
   "cell_type": "code",
   "execution_count": null,
   "metadata": {
    "colab": {
     "base_uri": "https://localhost:8080/"
    },
    "executionInfo": {
     "elapsed": 458,
     "status": "ok",
     "timestamp": 1735835221293,
     "user": {
      "displayName": "Pradip Puri",
      "userId": "14631458812066287520"
     },
     "user_tz": -345
    },
    "id": "kjnka9Iq1pOs",
    "outputId": "6f3951af-8f29-45db-b839-5774a09dc6a8"
   },
   "outputs": [],
   "source": [
    "# Collection Unpacking\n",
    "\n",
    "fruits = [\"apple\", \"banana\", \"cherry\", \"kiwi\"]\n",
    "w, x, y, z = fruits\n",
    "print(w)\n",
    "print(x)\n",
    "print(y)\n",
    "print(z)"
   ]
  },
  {
   "cell_type": "code",
   "execution_count": null,
   "metadata": {
    "colab": {
     "base_uri": "https://localhost:8080/"
    },
    "executionInfo": {
     "elapsed": 455,
     "status": "ok",
     "timestamp": 1735835543005,
     "user": {
      "displayName": "Pradip Puri",
      "userId": "14631458812066287520"
     },
     "user_tz": -345
    },
    "id": "JndMWquL2GpH",
    "outputId": "a78eaaf0-abd9-4aa9-e707-a8b13df87967"
   },
   "outputs": [],
   "source": [
    "# Output multiple variables in single statement\n",
    "\n",
    "x = \"Python\"\n",
    "y = \"is\"\n",
    "z = \"awesome\"\n",
    "print(x, y, z) # With spaces\n",
    "print(x + y + z) # Without spaces\n",
    "\n",
    "# Operators used will perform mathematic operations for numerals\n",
    "x = 5\n",
    "y = 10\n",
    "print(x + y)\n",
    "\n",
    "# Two different type of variables output with single print function\n",
    "x = 5\n",
    "y = \"John\"\n",
    "print(x, y)"
   ]
  },
  {
   "cell_type": "code",
   "execution_count": null,
   "metadata": {
    "colab": {
     "base_uri": "https://localhost:8080/"
    },
    "executionInfo": {
     "elapsed": 410,
     "status": "ok",
     "timestamp": 1735836532543,
     "user": {
      "displayName": "Pradip Puri",
      "userId": "14631458812066287520"
     },
     "user_tz": -345
    },
    "id": "smc6q04j3QHI",
    "outputId": "5225ec1d-ecb1-44f3-87a7-df8dd6f80439"
   },
   "outputs": [],
   "source": [
    "# Global Functions\n",
    "x = \"awesome\" # Created outside of functions\n",
    "\n",
    "def myfunc():\n",
    "  x = \"boring\" # local assigned\n",
    "  print(\"Python is \" + x)\n",
    "\n",
    "  def change_global():\n",
    "    global x\n",
    "    x = \"fantastic\" # Change global value\n",
    "\n",
    "  change_global()\n",
    "\n",
    "print(\"Python is \" + x)\n",
    "myfunc()\n",
    "print(\"Python is \" + x)"
   ]
  },
  {
   "cell_type": "code",
   "execution_count": null,
   "metadata": {
    "colab": {
     "base_uri": "https://localhost:8080/"
    },
    "executionInfo": {
     "elapsed": 430,
     "status": "ok",
     "timestamp": 1735835819080,
     "user": {
      "displayName": "Pradip Puri",
      "userId": "14631458812066287520"
     },
     "user_tz": -345
    },
    "id": "OsID3Uuh3pDL",
    "outputId": "9671c86e-b137-4638-a2e2-b9cc8530bd53"
   },
   "outputs": [],
   "source": [
    "# Use of global keyword\n",
    "def myfunc():\n",
    "  global q\n",
    "  q = \"fantastic\"\n",
    "\n",
    "myfunc()\n",
    "print(\"Python is \" + q)"
   ]
  },
  {
   "cell_type": "markdown",
   "metadata": {
    "id": "U5_I3xa7x1Gd"
   },
   "source": [
    "## **Comments in Python**\n",
    "1.   Use descriptive comments to explain complex logic\n",
    "2.   Keep comments updated with code changes\n",
    "3.   Use docstrings for modules, classes, methods\n",
    "\n",
    "```\n",
    "# Single line comment\n",
    "\n",
    "\"\"\"\n",
    "Multi-line comment (docstring)\n",
    "Typically used for function/class documentation\n",
    "\"\"\"\n",
    "\n",
    "def calculate_area(radius):\n",
    "   \"\"\"Calculate circle area given radius\"\"\"  # Function docstring\n",
    "   return 3.14 * radius ** 2\n",
    "\n",
    "# TODO: Fix bug in calculation\n",
    "# FIXME: Handle negative inputs\n",
    "# NOTE: Assumes metric units\n",
    "```\n"
   ]
  },
  {
   "cell_type": "markdown",
   "metadata": {
    "id": "ZQpf4ye9j-JM"
   },
   "source": [
    "## **Datatypes in Python**\n",
    "Variables can store data of different types, and different types can do different things. These in built datatypes are as follows:"
   ]
  },
  {
   "cell_type": "code",
   "execution_count": null,
   "metadata": {
    "colab": {
     "base_uri": "https://localhost:8080/"
    },
    "executionInfo": {
     "elapsed": 410,
     "status": "ok",
     "timestamp": 1735897745024,
     "user": {
      "displayName": "Pradip Puri",
      "userId": "14631458812066287520"
     },
     "user_tz": -345
    },
    "id": "eBlDBYp1j8M8",
    "outputId": "8c4fa2b4-b24d-4b65-9367-21d831004aa2"
   },
   "outputs": [],
   "source": [
    "# Numeric Types\n",
    "integer = 5                  # int\n",
    "floating = 3.14             # float\n",
    "complex_num = 1 + 2j        # complex\n",
    "\n",
    "# Sequence Types\n",
    "string = \"Hello\"            # str\n",
    "list_items = [1, 2, 3]      # list (mutable)\n",
    "tuple_items = (1, 2, 3)     # tuple (immutable)\n",
    "\n",
    "# Mapping Type\n",
    "dictionary = {\"a\": 1, \"b\": 2}  # dict\n",
    "\n",
    "# Set Types\n",
    "set_items = {1, 2, 3}       # set (mutable, unique items)\n",
    "frozen = frozenset([1,2,3]) # frozenset (immutable)\n",
    "\n",
    "# Boolean Type\n",
    "bool_true = True            # bool\n",
    "bool_false = False\n",
    "\n",
    "# None Type\n",
    "none_type = None           # NoneType\n",
    "\n",
    "# Check type using type()\n",
    "print(type(integer))      # <class 'int'>\n",
    "print(type(string))       # <class 'str'>\n",
    "\n",
    "# Check type using isinstance()\n",
    "print(isinstance(integer, int))    # True\n",
    "print(isinstance(string, float))   # False"
   ]
  },
  {
   "cell_type": "markdown",
   "metadata": {
    "id": "VggF_SKoky54"
   },
   "source": [
    "## **Setting Specific DataTypes**\n",
    "Specific datatypes can be set to each variable using the help of constructors from each data types."
   ]
  },
  {
   "cell_type": "code",
   "execution_count": null,
   "metadata": {
    "colab": {
     "base_uri": "https://localhost:8080/"
    },
    "executionInfo": {
     "elapsed": 423,
     "status": "ok",
     "timestamp": 1735898292443,
     "user": {
      "displayName": "Pradip Puri",
      "userId": "14631458812066287520"
     },
     "user_tz": -345
    },
    "id": "oKqaeY2gk81l",
    "outputId": "abe29fc3-6e17-4c54-fb85-ec6cabc6b68c"
   },
   "outputs": [],
   "source": [
    "# String\n",
    "x = str(\"Hello World\")     # or simply x = \"Hello World\"\n",
    "\n",
    "# Integer\n",
    "x = int(20)               # or simply x = 20\n",
    "\n",
    "# Float\n",
    "x = float(20.5)          # or simply x = 20.5\n",
    "\n",
    "# Complex\n",
    "x = complex(1j)          # or x = 1j\n",
    "\n",
    "# List\n",
    "x = list((\"apple\", \"banana\", \"cherry\"))\n",
    "# or simply x = [\"apple\", \"banana\", \"cherry\"]\n",
    "\n",
    "# Tuple\n",
    "x = tuple((\"apple\", \"banana\", \"cherry\"))\n",
    "# or simply x = (\"apple\", \"banana\", \"cherry\")\n",
    "\n",
    "# Range\n",
    "x = range(6)  # Creates sequence: 0,1,2,3,4,5\n",
    "\n",
    "# Dict\n",
    "x = dict(name=\"John\", age=36)\n",
    "# or x = {\"name\": \"John\", \"age\": 36}\n",
    "\n",
    "# Set\n",
    "x = set((\"apple\", \"banana\", \"cherry\"))\n",
    "# or x = {\"apple\", \"banana\", \"cherry\"}\n",
    "\n",
    "# Boolean\n",
    "x = bool(5)  # True\n",
    "x = bool(0)  # False\n",
    "x = bool(['apple'])\n",
    "print(x)"
   ]
  },
  {
   "cell_type": "markdown",
   "metadata": {
    "id": "RI2lwJvPmlEG"
   },
   "source": [
    "## **Type Conversion**\n",
    "You can convert from one type to another with the ***int(), float(), and complex()*** methods:"
   ]
  },
  {
   "cell_type": "code",
   "execution_count": null,
   "metadata": {
    "colab": {
     "base_uri": "https://localhost:8080/"
    },
    "executionInfo": {
     "elapsed": 427,
     "status": "ok",
     "timestamp": 1735898427147,
     "user": {
      "displayName": "Pradip Puri",
      "userId": "14631458812066287520"
     },
     "user_tz": -345
    },
    "id": "lvjo1SZsm1th",
    "outputId": "ae1ffe9f-05cd-464e-eb44-aaf72c2d82c4"
   },
   "outputs": [],
   "source": [
    "# Type Conversion Samples\n",
    "\n",
    "x = 1    # int\n",
    "y = 2.8  # float\n",
    "z = 1j   # complex\n",
    "\n",
    "#convert from int to float:\n",
    "a = float(x)\n",
    "\n",
    "#convert from float to int:\n",
    "b = int(y)\n",
    "\n",
    "#convert from int to complex:\n",
    "c = complex(x)\n",
    "\n",
    "print(a)\n",
    "print(b)\n",
    "print(c)\n",
    "\n",
    "print(type(a))\n",
    "print(type(b))\n",
    "print(type(c))"
   ]
  },
  {
   "cell_type": "markdown",
   "metadata": {
    "id": "lFGEs2oKrl94"
   },
   "source": [
    "## **Random Numbers**\n",
    "Python has a built-in module called random that can be used to make random numbers.\n",
    "\n",
    "For cases like:\n",
    "\n",
    "\n",
    "```\n",
    "import random\n",
    "\n",
    "# First run\n",
    "random.seed(42)\n",
    "print(random.randint(1, 100))  # Let's say prints: 63\n",
    "print(random.randint(1, 100))  # Let's say prints: 27\n",
    "\n",
    "# Second run - same numbers!\n",
    "random.seed(42)\n",
    "print(random.randint(1, 100))  # Prints: 63 again\n",
    "print(random.randint(1, 100))  # Prints: 27 again\n",
    "```\n",
    "\n",
    "This is useful for:\n",
    "\n",
    "1.  Testing: You want consistent \"random\" numbers to test your code\n",
    "2.  Scientific simulations: Need reproducible results\n",
    "3.  Game development: Creating consistent procedural generation\n",
    "4.  Debugging: Reproducing random-based issues\n",
    "\n",
    "Without setting a seed, Python uses ***system time as the seed***, giving truly random numbers each time.\n"
   ]
  },
  {
   "cell_type": "code",
   "execution_count": null,
   "metadata": {
    "colab": {
     "base_uri": "https://localhost:8080/"
    },
    "executionInfo": {
     "elapsed": 403,
     "status": "ok",
     "timestamp": 1735899815506,
     "user": {
      "displayName": "Pradip Puri",
      "userId": "14631458812066287520"
     },
     "user_tz": -345
    },
    "id": "BBL1a9nMnMiy",
    "outputId": "eeb5c546-cc89-4c2a-cf00-106909f68e44"
   },
   "outputs": [],
   "source": [
    "# Random Number\n",
    "import random\n",
    "\n",
    "# Random integer between 1 and 10 (inclusive)\n",
    "x = random.randint(1, 10)\n",
    "\n",
    "# Random float between 0 and 1\n",
    "y = random.random()\n",
    "\n",
    "# Random float within range\n",
    "z = random.uniform(1.0, 10.0)\n",
    "\n",
    "print(x)\n",
    "print(y)\n",
    "print(z)\n",
    "\n",
    "# Random choice from sequence\n",
    "fruits = ['apple', 'banana', 'cherry']\n",
    "choice = random.choice(fruits)\n",
    "\n",
    "# Shuffle a list randomly\n",
    "random.shuffle(fruits)\n",
    "print(fruits)\n",
    "\n",
    "# Random sample from sequence\n",
    "sample = random.sample(fruits, 2)  # Pick 2 unique items\n",
    "\n",
    "# Random with seed (reproducible)\n",
    "random.seed(41)\n",
    "x = random.randint(1, 100)  # Same number every time\n",
    "\n",
    "# Random from range with step\n",
    "r = random.randrange(0, 100, 5)  # Random multiple of 5\n",
    "\n",
    "print(choice)\n",
    "print(sample)\n",
    "print(x)\n",
    "print(r)"
   ]
  },
  {
   "cell_type": "markdown",
   "metadata": {
    "id": "ERxE31RltJmv"
   },
   "source": [
    "## **Python Strings**\n",
    "We can use different types of quotes in python syntax. Some of the beautiful cases are as follows:"
   ]
  },
  {
   "cell_type": "code",
   "execution_count": null,
   "metadata": {
    "colab": {
     "base_uri": "https://localhost:8080/"
    },
    "executionInfo": {
     "elapsed": 391,
     "status": "ok",
     "timestamp": 1735900220621,
     "user": {
      "displayName": "Pradip Puri",
      "userId": "14631458812066287520"
     },
     "user_tz": -345
    },
    "id": "M7XhtnOatnCs",
    "outputId": "5a977d19-f983-48ae-ffc5-c5e440f0d2ab"
   },
   "outputs": [],
   "source": [
    "# Single quotes inside double quotes\n",
    "text1 = \"He said 'Hello' to me\"\n",
    "\n",
    "# Double quotes inside single quotes\n",
    "text2 = 'She replied \"Hi\" back'\n",
    "\n",
    "# Using escape characters\n",
    "text3 = 'It\\'s a beautiful day'\n",
    "text4 = \"She said \\\"Hello\\\" to me\"\n",
    "\n",
    "# Triple quotes for multiple lines with mixed quotes\n",
    "text5 = '''He's saying \"Hello\"\n",
    "while she's saying 'Hi' '''\n",
    "\n",
    "text6 = \"\"\"He's saying \"Hello\"\n",
    "while she's saying 'Hi' \"\"\"\n",
    "\n",
    "# String concatenation for complex cases\n",
    "text7 = 'He said ' + '\"Hello\"' + ' to me'\n",
    "\n",
    "print(text1)  # He said 'Hello' to me\n",
    "print(text2)  # She replied \"Hi\" back\n",
    "print(text3)  # It's a beautiful day\n",
    "print(text4)  # She said \"Hello\" to me\n",
    "print(text5)\n",
    "print(text6)\n",
    "print(text7)"
   ]
  },
  {
   "cell_type": "code",
   "execution_count": null,
   "metadata": {
    "id": "DgAC11TWuLJy"
   },
   "outputs": [],
   "source": [
    "Strings are Arrays"
   ]
  },
  {
   "cell_type": "markdown",
   "metadata": {
    "id": "5qmGjvv5uTlF"
   },
   "source": [
    "## **Strings are Arrays**\n",
    "Like many other popular programming languages, strings in Python are arrays of bytes representing **unicode characters**.\n",
    "\n",
    "However, Python **does not** have a **character data type**, a single character is simply **a string with a length of 1**.\n",
    "\n",
    "**Square brackets** can be used to access elements of the string."
   ]
  },
  {
   "cell_type": "code",
   "execution_count": null,
   "metadata": {
    "colab": {
     "base_uri": "https://localhost:8080/"
    },
    "executionInfo": {
     "elapsed": 397,
     "status": "ok",
     "timestamp": 1735900703254,
     "user": {
      "displayName": "Pradip Puri",
      "userId": "14631458812066287520"
     },
     "user_tz": -345
    },
    "id": "LICCwq0ButPC",
    "outputId": "b9f89373-8daf-493a-fda0-2d5112075889"
   },
   "outputs": [],
   "source": [
    "# Printing single character as string is array of characters named as string\n",
    "# with indexes.\n",
    "a = \"Hello, World!\"\n",
    "print(a[1])\n",
    "\n",
    "# Looping through each string indexed values\n",
    "for x in \"banana\":\n",
    "  print(x)\n",
    "\n",
    "# Figuring out length of the string\n",
    "a = \"Hello, World!\"\n",
    "print(len(a))\n",
    "\n",
    "# String pattern check in string\n",
    "txt = \"The best things in life are free!\"\n",
    "print(\"free\" in txt)\n",
    "\n",
    "# String pattern check using not in\n",
    "txt = \"The best things in life are free!\"\n",
    "if \"expensive\" not in txt:\n",
    "  print(\"No, 'expensive' is NOT present.\")"
   ]
  },
  {
   "cell_type": "markdown",
   "metadata": {
    "id": "jTaiEo6Lv0IF"
   },
   "source": [
    "## **String Slicing**\n",
    "You can return a range of characters by using the slice syntax.\n",
    "\n",
    "Specify the start index and the end index, separated by a colon, to return a part of the string.\n",
    "\n",
    "If we are using the negative indexes from right to left, then it starts from -1 -> -2 -> -3 -> ....."
   ]
  },
  {
   "cell_type": "code",
   "execution_count": null,
   "metadata": {
    "id": "NCAm3ifQwFwr"
   },
   "outputs": [],
   "source": [
    "text = \"Hello, World!\"\n",
    "\n",
    "# Basic slicing [start:end]\n",
    "print(text[0:5])    # \"Hello\"\n",
    "print(text[:5])     # \"Hello\" (start from beginning)\n",
    "print(text[7:])     # \"World!\" (until end)\n",
    "print(text[:])      # \"Hello, World!\" (entire string)\n",
    "\n",
    "# Negative indexing\n",
    "print(text[-6:-1])  # \"World\"\n",
    "print(text[-6:])    # \"World!\"\n",
    "\n",
    "# With step [start:end:step]\n",
    "print(text[::2])    # \"Hlo ol!\" (every 2nd character)\n",
    "print(text[::-1])   # \"!dlroW ,olleH\" (reverse string)\n",
    "print(text[::3])    # \"Hl r!\" (every 3rd character)\n",
    "\n",
    "# Combining techniques\n",
    "print(text[0:10:2]) # \"Hlo W\" (first 10 chars, step 2)\n",
    "print(text[-1::-1]) # \"!dlroW ,olleH\" (reverse)\n",
    "\n",
    "# Individual characters\n",
    "print(text[0])      # \"H\" (first character)\n",
    "print(text[-1])     # \"!\" (last character)"
   ]
  },
  {
   "cell_type": "markdown",
   "metadata": {
    "id": "0tv4VNU81Ryg"
   },
   "source": [
    "## **String Modification**\n",
    "Python has a set of built-in methods that you can use on strings to modify the strings."
   ]
  },
  {
   "cell_type": "code",
   "execution_count": null,
   "metadata": {
    "colab": {
     "base_uri": "https://localhost:8080/"
    },
    "executionInfo": {
     "elapsed": 421,
     "status": "ok",
     "timestamp": 1735902258047,
     "user": {
      "displayName": "Pradip Puri",
      "userId": "14631458812066287520"
     },
     "user_tz": -345
    },
    "id": "o48XcIrb1e9V",
    "outputId": "67177810-3021-4566-9bca-49cab4e9f7d1"
   },
   "outputs": [],
   "source": [
    "# Case modifications\n",
    "text = \"Hello, World!\"\n",
    "print(text.upper())      # \"HELLO, WORLD!\"\n",
    "print(text.lower())      # \"hello, world!\"\n",
    "print(text.title())      # \"Hello, World!\"\n",
    "print(text.capitalize()) # \"Hello, world!\"\n",
    "print(text.swapcase())   # \"hELLO, wORLD!\"\n",
    "\n",
    "# Strip whitespace\n",
    "text = \"  Hello  \"\n",
    "print(text.strip())      # \"Hello\"\n",
    "print(text.lstrip())     # \"Hello  \"\n",
    "print(text.rstrip())     # \"  Hello\"\n",
    "\n",
    "# Replace text\n",
    "text = \"Hello, World!\"\n",
    "print(text.replace(\"Hello\", \"Hi\"))  # \"Hi, World!\"\n",
    "print(text.replace(\"l\", \"L\", 1))    # \"HeLlo, World!\"\n",
    "\n",
    "# Split and Join\n",
    "text = \"apple,banana,cherry\"\n",
    "list = text.split(\",\")   # ['apple', 'banana', 'cherry']\n",
    "print(\",\".join(list))    # \"apple,banana,cherry\"\n",
    "\n",
    "# Find and Count\n",
    "text = \"Hello, Hello\"\n",
    "print(text.find(\"Hello\"))     # 0 (first occurrence)\n",
    "print(text.rfind(\"Hello\"))    # 7 (last occurrence)\n",
    "print(text.count(\"Hello\"))    # 2 (number of occurrences)\n",
    "\n",
    "# Check string content\n",
    "text = \"Hello123\"\n",
    "print(text.isalpha())    # False\n",
    "print(text.isalnum())    # True\n",
    "print(text.isdigit())    # False\n",
    "print(text.islower())    # False\n",
    "print(text.isupper())    # False"
   ]
  },
  {
   "cell_type": "markdown",
   "metadata": {
    "id": "0IvjzcgY2ZLV"
   },
   "source": [
    "## **String Formatters**\n",
    "\n",
    "Common format specifiers:\n",
    "\n",
    "- **:.2f** - 2 decimal places\n",
    "- **:,** - thousand separator\n",
    "- **:>10** - right align, width 10\n",
    "- **:<10** - left align, width 10\n",
    "- **:^10** - center align, width 10\n",
    "- **:d** - decimal integer\n",
    "- **:e** - scientific notation\n",
    "- **:x** - hexadecimal\n",
    "- **:b** - binary"
   ]
  },
  {
   "cell_type": "code",
   "execution_count": null,
   "metadata": {
    "id": "oV00bWV12O0e"
   },
   "outputs": [],
   "source": [
    "# Basic format() method\n",
    "name = \"John\"\n",
    "age = 25\n",
    "print(\"Name: {}, Age: {}\".format(name, age))    # Name: John, Age: 25\n",
    "print(\"Age: {1}, Name: {0}\".format(name, age))  # Age: 25, Name: John\n",
    "\n",
    "# f-strings (Python 3.6+)\n",
    "print(f\"Name: {name}, Age: {age}\")             # Name: John, Age: 25\n",
    "print(f\"Age doubled: {age * 2}\")               # Age doubled: 50\n",
    "\n",
    "# String formatting with %\n",
    "print(\"Name: %s, Age: %d\" % (name, age))       # Name: John, Age: 25\n",
    "\n",
    "# Format specifiers\n",
    "price = 49.95\n",
    "print(f\"Price: ${price:.2f}\")                  # Price: $49.95\n",
    "print(\"Price: ${:.2f}\".format(price))          # Price: $49.95\n",
    "\n",
    "# Padding and alignment\n",
    "print(f\"|{name:<10}|\")    # Left align   |John      |\n",
    "print(f\"|{name:>10}|\")    # Right align  |      John|\n",
    "print(f\"|{name:^10}|\")    # Center       |   John   |\n",
    "\n",
    "# Format with dictionary\n",
    "data = {'name': 'John', 'age': 25}\n",
    "print(\"Name: {name}, Age: {age}\".format(**data))\n",
    "\n",
    "# Named placeholders\n",
    "print(\"{name} is {age} years old\".format(name=name, age=age))\n",
    "\n",
    "# Number formatting\n",
    "num = 123456\n",
    "print(f\"{num:,}\")         # 123,456 (thousand separator)\n",
    "print(f\"{num:e}\")         # 1.234560e+05 (scientific)\n",
    "print(f\"{num:b}\")         # 11110001001000000 (binary)\n",
    "print(f\"{num:x}\")         # 1e240 (hexadecimal)"
   ]
  },
  {
   "cell_type": "markdown",
   "metadata": {
    "id": "SqNXxhZg3jdC"
   },
   "source": [
    "## **Escape Characters**\n",
    "Python uses the backslash (**\\**) as an escape character to indicate special characters in strings.\n",
    "\n",
    "Common escape sequences:\n",
    "\n",
    "- **\\n** - Newline\n",
    "- **\\t** - Tab\n",
    "- **\\\\** - Backslash\n",
    "- **\\'** - Single quote\n",
    "- **\\\"** - Double quote\n",
    "- **\\r** - Carriage return\n",
    "- **\\b** - Backspace\n",
    "- **\\f** - Form feed\n",
    "- **\\ooo** - Octal value\n",
    "- **\\xhh** - Hex value"
   ]
  },
  {
   "cell_type": "code",
   "execution_count": null,
   "metadata": {
    "colab": {
     "base_uri": "https://localhost:8080/"
    },
    "executionInfo": {
     "elapsed": 409,
     "status": "ok",
     "timestamp": 1735902947891,
     "user": {
      "displayName": "Pradip Puri",
      "userId": "14631458812066287520"
     },
     "user_tz": -345
    },
    "id": "Q-vY71Ce3q5B",
    "outputId": "96017e42-1d6d-462e-c0d9-6a74ddaf8609"
   },
   "outputs": [],
   "source": [
    "# Newline\n",
    "print(\"First line\\nSecond line\")  # Prints on two lines\n",
    "\n",
    "# Tab\n",
    "print(\"Name:\\tJohn\")  # Adds tab space between Name: and John\n",
    "\n",
    "# Backslash\n",
    "print(\"Path: C:\\\\Users\\\\Documents\")  # Prints: Path: C:\\Users\\Documents\n",
    "\n",
    "# Single and double quotes\n",
    "print('It\\'s a nice day')  # Prints: It's a nice day\n",
    "print(\"She said \\\"Hello\\\"\")  # Prints: She said \"Hello\"\n",
    "\n",
    "# Unicode characters\n",
    "print(\"\\u2764\")  # Prints: ❤\n",
    "\n",
    "# Ignore the escape charaters using raw strings by adding raw.\n",
    "# Raw string\n",
    "print(r\"C:\\Users\\name\")  # Prints: C:\\Users\\name"
   ]
  },
  {
   "cell_type": "markdown",
   "metadata": {
    "id": "RKShLeT64ikS"
   },
   "source": [
    "## **String Methods**\n",
    "Python has a set of built-in methods that you can use on strings."
   ]
  },
  {
   "cell_type": "code",
   "execution_count": null,
   "metadata": {
    "id": "yL2WGUFi4llO"
   },
   "outputs": [],
   "source": [
    "# Basic string methods\n",
    "text = \"Hello, World!\"\n",
    "\n",
    "# Case methods\n",
    "print(text.upper())      # \"HELLO, WORLD!\"\n",
    "print(text.lower())      # \"hello, world!\"\n",
    "print(text.title())      # \"Hello, World!\"\n",
    "print(text.capitalize()) # \"Hello, world!\"\n",
    "\n",
    "# Finding and counting\n",
    "print(text.count('l'))   # 3 (counts occurrences of 'l')\n",
    "print(text.find('o'))    # 4 (index of first 'o')\n",
    "print(text.rfind('o'))   # 7 (index of last 'o')\n",
    "print(text.index('W'))   # 7 (like find, but raises error if not found)\n",
    "\n",
    "# Checking string properties\n",
    "print(\"123\".isdigit())   # True\n",
    "print(\"abc\".isalpha())   # True\n",
    "print(\"abc123\".isalnum()) # True\n",
    "print(\"  \".isspace())    # True\n",
    "\n",
    "# Stripping whitespace\n",
    "text = \"  hello  \"\n",
    "print(text.strip())      # \"hello\"\n",
    "print(text.lstrip())     # \"hello  \"\n",
    "print(text.rstrip())     # \"  hello\"\n",
    "\n",
    "# Splitting and joining\n",
    "text = \"apple,banana,orange\"\n",
    "print(text.split(','))   # ['apple', 'banana', 'orange']\n",
    "\n",
    "words = ['Hello', 'World']\n",
    "print(' '.join(words))   # \"Hello World\"\n",
    "\n",
    "# Replacement\n",
    "text = \"Hello, World!\"\n",
    "print(text.replace('World', 'Python'))  # \"Hello, Python!\"\n",
    "\n",
    "# Checking prefixes and suffixes\n",
    "print(text.startswith('Hello'))  # True\n",
    "print(text.endswith('!'))       # True\n",
    "\n",
    "# Formatting\n",
    "name = \"Alice\"\n",
    "age = 25\n",
    "print(\"Name: {}, Age: {}\".format(name, age))  # \"Name: Alice, Age: 25\"\n",
    "print(f\"Name: {name}, Age: {age}\")           # Same result using f-string\n",
    "\n",
    "# zfill - Adds leading zeros\n",
    "print(\"123\".zfill(5))    # \"00123\"\n",
    "\n",
    "# center/ljust/rjust - Alignment\n",
    "print(\"hello\".center(11, '-'))  # \"---hello---\"\n",
    "print(\"hello\".ljust(10, '*'))   # \"hello*****\"\n",
    "print(\"hello\".rjust(10, '*'))   # \"*****hello\"\n",
    "\n",
    "# partition - Splits into 3 parts\n",
    "print(\"Hello-World\".partition('-'))  # ('Hello', '-', 'World')\n",
    "\n",
    "# swapcase - Swaps case of letters\n",
    "print(\"Hello\".swapcase())  # \"hELLO\""
   ]
  },
  {
   "cell_type": "markdown",
   "metadata": {},
   "source": [
    "## **Boolean in Python**\n",
    "Boolean values are represented as True or False.\n",
    "We can use bool function to assert the true or false for the supplied value.\n",
    "There are many python inbuilt functions like the isinstance() function, which can be used to determine if an object is of a certain data type."
   ]
  },
  {
   "cell_type": "code",
   "execution_count": null,
   "metadata": {},
   "outputs": [],
   "source": [
    "# Basic boolean values\n",
    "is_active = True\n",
    "is_logged_in = False\n",
    "\n",
    "# Comparison operators return booleans\n",
    "x = 5\n",
    "y = 10\n",
    "is_equal = x == y  # False\n",
    "is_greater = x > y  # False\n",
    "is_less = x < y  # True\n",
    "\n",
    "# Boolean operators\n",
    "and_result = True and False  # False\n",
    "or_result = True or False  # True\n",
    "not_result = not True  # False\n",
    "\n",
    "# Common uses in conditionals\n",
    "if is_active and is_logged_in:\n",
    "    print(\"User is active and logged in\")\n",
    "elif is_active or is_logged_in:\n",
    "    print(\"User is either active or logged in\")\n",
    "else:\n",
    "    print(\"User is neither active nor logged in\")\n",
    "\n",
    "# Boolean methods\n",
    "text = \"Hello\"\n",
    "starts_with_h = text.startswith(\"H\")  # True\n",
    "is_upper = text.isupper()  # False\n",
    "\n",
    "# Converting to boolean\n",
    "number = 42\n",
    "zero = 0\n",
    "bool_number = bool(number)  # True (any non-zero number is True)\n",
    "bool_zero = bool(zero)     # False\n",
    "bool_empty = bool(\"\")      # False (empty string is False)\n",
    "bool_list = bool([])       # False (empty list is False)\n",
    "\n",
    "x = 200\n",
    "print(isinstance(x, int))"
   ]
  },
  {
   "cell_type": "markdown",
   "metadata": {},
   "source": [
    "## **Operators in Python**\n",
    "Operators are used to perform operations on variables and values.\n",
    "Below are the list of different types of operators used in python programming.\n",
    "\n",
    "Since bitwise operators operations are a bit complex and harder to understand comparatively, \n",
    "Let me break down bitwise operators in a simpler way. They work with numbers at the binary level (0s and 1s).\n",
    "\n",
    "```\n",
    "# Let's use smaller numbers for easier understanding\n",
    "a = 5    # 5 in binary is:  0101\n",
    "b = 3    # 3 in binary is:  0011\n",
    "\n",
    "# & (AND): Returns 1 only if both bits are 1\n",
    "result = a & b    # 0001 = 1\n",
    "# Works like this:\n",
    "#    0101 (5)\n",
    "#    0011 (3)\n",
    "#    ----\n",
    "#    0001 (1) - Only the last position had 1 in both numbers\n",
    "\n",
    "# | (OR): Returns 1 if at least one bit is 1\n",
    "result = a | b    # 0111 = 7\n",
    "# Works like this:\n",
    "#    0101 (5)\n",
    "#    0011 (3)\n",
    "#    ----\n",
    "#    0111 (7) - Positions where either number had 1\n",
    "\n",
    "# ^ (XOR): Returns 1 only if bits are different\n",
    "result = a ^ b    # 0110 = 6\n",
    "# Works like this:\n",
    "#    0101 (5)\n",
    "#    0011 (3)\n",
    "#    ----\n",
    "#    0110 (6) - Positions where numbers had different bits\n",
    "\n",
    "# ~ (NOT): Inverts all bits\n",
    "result = ~a    # Inverts 0101 to 1010 (with sign bits)\n",
    "\n",
    "# << (Left Shift): Shifts bits left, adding zeros on right\n",
    "result = a << 1    # 1010 = 10\n",
    "# 0101 becomes 1010 (shifted left once)\n",
    "\n",
    "# >> (Right Shift): Shifts bits right, adding zeros on left\n",
    "result = a >> 1    # 0010 = 2\n",
    "# 0101 becomes 0010 (shifted right once)\n",
    "```"
   ]
  },
  {
   "cell_type": "code",
   "execution_count": null,
   "metadata": {},
   "outputs": [],
   "source": [
    "# Arithmetic Operators\n",
    "x = 10\n",
    "y = 3\n",
    "addition = x + y        # 13\n",
    "subtraction = x - y     # 7\n",
    "multiplication = x * y  # 30\n",
    "division = x / y        # 3.333... (float division)\n",
    "floor_division = x // y # 3 (integer division, rounds down)\n",
    "modulus = x % y         # 1 (remainder)\n",
    "exponent = x ** y       # 1000 (10 to the power of 3)\n",
    "\n",
    "# Assignment Operators\n",
    "a = 5           # Basic assignment\n",
    "a += 3          # Same as: a = a + 3\n",
    "a -= 2          # Same as: a = a - 2\n",
    "a *= 4          # Same as: a = a * 4\n",
    "a /= 2          # Same as: a = a / 2\n",
    "a //= 2         # Same as: a = a // 2\n",
    "a %= 3          # Same as: a = a % 3\n",
    "a **= 2         # Same as: a = a ** 2\n",
    "\n",
    "# Comparison Operators\n",
    "x = 5\n",
    "y = 10\n",
    "equal = x == y           # False\n",
    "not_equal = x != y       # True\n",
    "greater = x > y          # False\n",
    "less = x < y             # True\n",
    "greater_equal = x >= y   # False\n",
    "less_equal = x <= y      # True\n",
    "\n",
    "# Logical Operators\n",
    "p = True\n",
    "q = False\n",
    "and_result = p and q    # False\n",
    "or_result = p or q      # True\n",
    "not_result = not p      # False\n",
    "\n",
    "# Identity Operators\n",
    "list1 = [1, 2, 3]\n",
    "list2 = [1, 2, 3]\n",
    "list3 = list1\n",
    "is_same = list1 is list3      # True (same object)\n",
    "is_not_same = list1 is list2  # False (different objects)\n",
    "\n",
    "# Membership Operators\n",
    "numbers = [1, 2, 3, 4, 5]\n",
    "in_list = 3 in numbers        # True\n",
    "not_in_list = 6 not in numbers # True\n",
    "\n",
    "# Bitwise Operators\n",
    "a = 60            # 60 = 0011 1100 in binary\n",
    "b = 13            # 13 = 0000 1101 in binary\n",
    "bitwise_and = a & b   # 12 = 0000 1100\n",
    "bitwise_or = a | b    # 61 = 0011 1101\n",
    "bitwise_xor = a ^ b   # 49 = 0011 0001\n",
    "bitwise_not = ~a      # -61 = 1100 0011\n",
    "left_shift = a << 2   # 240 = 1111 0000\n",
    "right_shift = a >> 2  # 15 = 0000 1111"
   ]
  }
 ],
 "metadata": {
  "colab": {
   "authorship_tag": "ABX9TyNDNL7RU3SrVd51BOtuxtO1",
   "provenance": [],
   "toc_visible": true
  },
  "kernelspec": {
   "display_name": "Python 3",
   "name": "python3"
  },
  "language_info": {
   "codemirror_mode": {
    "name": "ipython",
    "version": 3
   },
   "file_extension": ".py",
   "mimetype": "text/x-python",
   "name": "python",
   "nbconvert_exporter": "python",
   "pygments_lexer": "ipython3",
   "version": "3.12.5"
  }
 },
 "nbformat": 4,
 "nbformat_minor": 0
}
