{
  "cells": [
    {
      "cell_type": "markdown",
      "metadata": {
        "id": "pYt84z-m0Tzg"
      },
      "source": [
        "# **Python(With Object Oriented Programming)**\n",
        "\n",
        "## **Classes And Objects**\n",
        "\n",
        "Python is an object oriented programming language.\n",
        "Almost everything in Python is an object, with its properties and methods.\n",
        "A Class is like an object constructor, or a \"blueprint\" for creating objects.\n",
        "In the example below, a simple demonstration of OOP is made.\n",
        "\n",
        "1.  Encapsulation:\n",
        "\n",
        "  - Private attributes (__age) can only be accessed through getter/setter methods\n",
        "  - Protected attributes (_name) suggest internal use only\n",
        "  -Methods that control access to data (get_age(), set_age())\n",
        "\n",
        "\n",
        "2.  Inheritance:\n",
        "\n",
        "  - Dog and Cat inherit from Animal\n",
        "  - They get all the base class methods and attributes\n",
        "  - super().__init__() calls the parent class constructor\n",
        "\n",
        "\n",
        "3.  Polymorphism:\n",
        "\n",
        "  - Each class implements its own version of make_sound() and get_info()\n",
        "  - Objects can be treated as their parent type (the array of animals)\n",
        "  - Method overriding provides different behaviors for different classes\n",
        "\n",
        "\n",
        "4.  Abstraction:\n",
        "\n",
        "  - The Animal class provides a general interface\n",
        "  - Implementation details are hidden in each specific class\n",
        "  - Users of the classes don't need to know the internal workings"
      ]
    },
    {
      "cell_type": "code",
      "execution_count": null,
      "metadata": {
        "id": "MtyjZhCi1Pdv"
      },
      "outputs": [],
      "source": [
        "# Parent class demonstrating encapsulation\n",
        "class Animal:\n",
        "    def __init__(self, name, age):\n",
        "        # Protected member (single underscore)\n",
        "        self._name = name\n",
        "        # Private member (double underscore)\n",
        "        self.__age = age\n",
        "\n",
        "    # Getter method for private member\n",
        "    def get_age(self):\n",
        "        return self.__age\n",
        "\n",
        "    # Setter method with validation\n",
        "    def set_age(self, age):\n",
        "        if age > 0:\n",
        "            self.__age = age\n",
        "        else:\n",
        "            raise ValueError(\"Age must be positive\")\n",
        "\n",
        "    def make_sound(self):\n",
        "        return \"Some generic animal sound\"\n",
        "\n",
        "    def get_info(self):\n",
        "        return f\"{self._name} is {self.__age} years old\"\n",
        "\n",
        "# Child class demonstrating inheritance\n",
        "class Dog(Animal):\n",
        "    def __init__(self, name, age, breed):\n",
        "        # Call parent class constructor\n",
        "        super().__init__(name, age)\n",
        "        self.breed = breed\n",
        "\n",
        "    # Method overriding (polymorphism)\n",
        "    def make_sound(self):\n",
        "        return \"Woof!\"\n",
        "\n",
        "    def get_info(self):\n",
        "        return f\"{self._name} is a {self.breed} dog, {self.get_age()} years old\"\n",
        "\n",
        "# Another child class for polymorphism demonstration\n",
        "class Cat(Animal):\n",
        "    def __init__(self, name, age, color):\n",
        "        super().__init__(name, age)\n",
        "        self.color = color\n",
        "\n",
        "    def make_sound(self):\n",
        "        return \"Meow!\"\n",
        "\n",
        "    def get_info(self):\n",
        "        return f\"{self._name} is a {self.color} cat, {self.get_age()} years old\"\n",
        "\n",
        "# Example usage\n",
        "if __name__ == \"__main__\": # The file is being run directly instead of being imported in other python file.\n",
        "    # Creating objects\n",
        "    dog = Dog(\"Buddy\", 3, \"Golden Retriever\")\n",
        "    cat = Cat(\"Whiskers\", 2, \"Gray\")\n",
        "\n",
        "    # Demonstrating polymorphism\n",
        "    animals = [dog, cat]\n",
        "    for animal in animals:\n",
        "        print(f\"\\nAnimal: {animal._name}\")\n",
        "        print(f\"Sound: {animal.make_sound()}\")\n",
        "        print(f\"Info: {animal.get_info()}\")\n",
        "\n",
        "    # Demonstrating encapsulation\n",
        "    try:\n",
        "        print(f\"\\nDog's age: {dog.get_age()}\")\n",
        "        dog.set_age(4)  # Using setter method\n",
        "        print(f\"Dog's new age: {dog.get_age()}\")\n",
        "\n",
        "        # This will raise an AttributeError\n",
        "        print(dog.__age)\n",
        "    except AttributeError:\n",
        "        print(\"Cannot access private age directly!\")\n"
      ]
    },
    {
      "cell_type": "markdown",
      "metadata": {
        "id": "wLlmPZSH2Mtu"
      },
      "source": [
        "## **Iterators**\n",
        "An iterator is an object that can be \"iterated\" (looped) over. It must implement the iter() and next() methods."
      ]
    },
    {
      "cell_type": "code",
      "execution_count": null,
      "metadata": {
        "colab": {
          "base_uri": "https://localhost:8080/"
        },
        "id": "Gx_puv9w2Tqp",
        "outputId": "9adee8db-c2c8-4e3b-e5f8-c2ec40eca730"
      },
      "outputs": [],
      "source": [
        "# Creating and using an iterator\n",
        "my_list = [1, 2, 3]\n",
        "iterator = iter(my_list)\n",
        "print(next(iterator))  # 1\n",
        "print(next(iterator))  # 2\n",
        "\n",
        "# Using iterator in a for loop\n",
        "for item in my_list:\n",
        "    print(item)"
      ]
    },
    {
      "cell_type": "markdown",
      "metadata": {
        "id": "hitqVQb552QN"
      },
      "source": [
        "### **Iterables vs Iterators**\n",
        "\n",
        "Key Differences:\n",
        "\n",
        "  - An iterable contains data that can be iterated over\n",
        "  - An iterator maintains state and remembers where it is during iteration\n",
        "  - Iterables can create multiple independent iterators\n",
        "  - Once an iterator is exhausted, it cannot be reused"
      ]
    },
    {
      "cell_type": "code",
      "execution_count": null,
      "metadata": {
        "id": "bUDUzNxz6ETi"
      },
      "outputs": [],
      "source": [
        "# Iterable: An object that can be \"iterated over\" (like lists, strings, dictionaries)\n",
        "my_list = [1, 2, 3]  # This is an iterable\n",
        "\n",
        "# Iterator: The object that does the iteration (created from an iterable)\n",
        "my_iterator = iter(my_list)  # This is an iterator"
      ]
    },
    {
      "cell_type": "markdown",
      "metadata": {
        "id": "K2thKZNb6QcW"
      },
      "source": [
        "### **Stopping an Iterator:**\n",
        "Iteration can be stopped using variety of ways.\n",
        "Those are by natural exhaustion, using for loop, and through custom iterator with condition."
      ]
    },
    {
      "cell_type": "code",
      "execution_count": null,
      "metadata": {
        "colab": {
          "base_uri": "https://localhost:8080/"
        },
        "id": "eCvpe8wM6khD",
        "outputId": "b8f50e2f-87f0-47d8-ee88-cdc9081da21e"
      },
      "outputs": [],
      "source": [
        "# Natural Exhaustion\n",
        "my_list = [1, 2, 3]\n",
        "iterator = iter(my_list)\n",
        "\n",
        "try:\n",
        "    while True:\n",
        "        item = next(iterator)\n",
        "        print(item)\n",
        "except StopIteration:\n",
        "    print(\"Iterator is exhausted\")\n",
        "\n",
        "\n",
        "\n",
        "# Using for loop (handles StopIteration automatically)\n",
        "my_list = [1, 2, 3]\n",
        "for item in my_list:  # Python handles the iterator creation and stopping\n",
        "    print(item)\n",
        "\n",
        "\n",
        "# Custom Iterator with Condition\n",
        "class CountUpTo:\n",
        "    def __init__(self, max_value):\n",
        "        self.max_value = max_value\n",
        "        self.current = 0\n",
        "\n",
        "    def __iter__(self):\n",
        "        return self\n",
        "\n",
        "    def __next__(self):\n",
        "        if self.current >= self.max_value:\n",
        "            raise StopIteration\n",
        "        self.current += 1\n",
        "        return self.current\n",
        "\n",
        "# Usage\n",
        "counter = CountUpTo(3)\n",
        "for num in counter:\n",
        "    print(num)  # Prints 1, 2, 3"
      ]
    },
    {
      "cell_type": "markdown",
      "metadata": {
        "id": "uiInlnZO52Mh"
      },
      "source": []
    },
    {
      "cell_type": "markdown",
      "metadata": {
        "id": "FHD0zWId2XVX"
      },
      "source": [
        "## **Scopes**\n",
        "Python has different levels of variable scope: ***local, enclosing, global, and built-in (LEGB rule)***."
      ]
    },
    {
      "cell_type": "code",
      "execution_count": null,
      "metadata": {
        "colab": {
          "base_uri": "https://localhost:8080/"
        },
        "id": "uNmPHsoE2e92",
        "outputId": "d60d2b1b-409a-4e5b-8bd3-1664395cac93"
      },
      "outputs": [],
      "source": [
        "global_var = \"I'm global\"\n",
        "\n",
        "def outer_function():\n",
        "    enclosing_var = \"I'm enclosing\"\n",
        "\n",
        "    def inner_function():\n",
        "        local_var = \"I'm local\"\n",
        "        print(local_var)      # Accesses local\n",
        "        print(enclosing_var)  # Accesses enclosing\n",
        "        print(global_var)     # Accesses global\n",
        "\n",
        "    inner_function()\n",
        "\n",
        "outer_function()"
      ]
    },
    {
      "cell_type": "markdown",
      "metadata": {
        "id": "mWLb2_og2qkB"
      },
      "source": [
        "## **Modules**\n",
        "Modules are Python files containing code that can be reused in other Python programs."
      ]
    },
    {
      "cell_type": "code",
      "execution_count": null,
      "metadata": {
        "colab": {
          "base_uri": "https://localhost:8080/"
        },
        "id": "nMSiJKMu2vPe",
        "outputId": "119afb2c-525c-4544-df74-921842e1a6c5"
      },
      "outputs": [],
      "source": [
        "%%writefile math_operations.py\n",
        "def add(a, b):\n",
        "    return a + b\n",
        "\n",
        "def subtract(a, b):\n",
        "    return a - b"
      ]
    },
    {
      "cell_type": "code",
      "execution_count": null,
      "metadata": {
        "colab": {
          "base_uri": "https://localhost:8080/"
        },
        "id": "2bccGLHP3Wuv",
        "outputId": "e53189c7-79d0-4563-a0e3-23f5e672fbae"
      },
      "outputs": [],
      "source": [
        "import math_operations\n",
        "result = math_operations.add(5, 3)\n",
        "print(result)  # 8"
      ]
    },
    {
      "cell_type": "markdown",
      "metadata": {
        "id": "X7l4OmQS3j-k"
      },
      "source": [
        "## **Dates**\n",
        "Python's datetime module provides classes for working with dates and times."
      ]
    },
    {
      "cell_type": "code",
      "execution_count": null,
      "metadata": {
        "colab": {
          "base_uri": "https://localhost:8080/"
        },
        "id": "VqYf14mw3oe3",
        "outputId": "8714b33e-5ad1-45c6-a4e3-41dc190c5bf6"
      },
      "outputs": [],
      "source": [
        "from datetime import datetime, timedelta\n",
        "\n",
        "# Current date and time\n",
        "now = datetime.now()\n",
        "print(now)\n",
        "\n",
        "# Creating a specific date\n",
        "specific_date = datetime(2024, 1, 1)\n",
        "\n",
        "# Adding time\n",
        "future_date = now + timedelta(days=7)\n",
        "print(future_date)"
      ]
    },
    {
      "cell_type": "markdown",
      "metadata": {
        "id": "Zpi6G4O43uvW"
      },
      "source": [
        "## **Math**\n",
        "The math module provides mathematical functions and constants."
      ]
    },
    {
      "cell_type": "code",
      "execution_count": null,
      "metadata": {
        "colab": {
          "base_uri": "https://localhost:8080/"
        },
        "id": "r0gu8DgZ34Ll",
        "outputId": "7959ff51-964b-417e-dde0-c4d3cff3b13c"
      },
      "outputs": [],
      "source": [
        "import math\n",
        "\n",
        "print(math.pi)           # 3.141592653589793\n",
        "print(math.sqrt(16))     # 4.0\n",
        "print(math.floor(3.7))   # 3\n",
        "print(math.ceil(3.2))    # 4"
      ]
    },
    {
      "cell_type": "markdown",
      "metadata": {
        "id": "l5qKkC3g36xu"
      },
      "source": [
        "## **JSON**\n",
        "JSON (JavaScript Object Notation) is a lightweight data format. Python's json module handles JSON data.\n"
      ]
    },
    {
      "cell_type": "code",
      "execution_count": null,
      "metadata": {
        "colab": {
          "base_uri": "https://localhost:8080/"
        },
        "id": "uD9qNxnJ4A-L",
        "outputId": "8b18a4b4-ea18-444f-8da6-e26a6d68da42"
      },
      "outputs": [],
      "source": [
        "import json\n",
        "\n",
        "# Converting Python to JSON\n",
        "data = {\n",
        "    \"name\": \"John\",\n",
        "    \"age\": 30,\n",
        "    \"city\": \"New York\"\n",
        "}\n",
        "json_string = json.dumps(data)\n",
        "\n",
        "# Converting JSON to Python\n",
        "python_dict = json.loads(json_string)\n",
        "print(python_dict)"
      ]
    },
    {
      "cell_type": "markdown",
      "metadata": {
        "id": "WxPKZTqw4MQS"
      },
      "source": [
        "## **Regex(Regular Expressions)**\n",
        "The re module provides support for regular expressions."
      ]
    },
    {
      "cell_type": "code",
      "execution_count": null,
      "metadata": {
        "id": "dmez_HVF4PTU"
      },
      "outputs": [],
      "source": [
        "import re\n",
        "\n",
        "text = \"My phone number is 123-456-7890\"\n",
        "\n",
        "# Finding patterns\n",
        "pattern = r\"\\d{3}-\\d{3}-\\d{4}\"\n",
        "match = re.search(pattern, text)\n",
        "if match:\n",
        "    print(match.group())  # 123-456-7890\n",
        "\n",
        "# Replacing patterns\n",
        "new_text = re.sub(r\"\\d\", \"X\", text)\n",
        "print(new_text)  # My phone number is XXX-XXX-XXXX"
      ]
    },
    {
      "cell_type": "markdown",
      "metadata": {
        "id": "RsGw07c_4XYp"
      },
      "source": [
        "## **PIP (Package Installer for Python)**\n",
        "PIP is Python's package manager for installing external libraries.\n",
        "\n",
        "```\n",
        "# Installing a package\n",
        "pip install requests\n",
        "\n",
        "# Upgrading a package\n",
        "pip install --upgrade requests\n",
        "\n",
        "# Listing installed packages\n",
        "pip list\n",
        "```\n",
        "\n"
      ]
    },
    {
      "cell_type": "markdown",
      "metadata": {
        "id": "-3YTTT3p4oqk"
      },
      "source": [
        "## **Exception handling**\n",
        "Try-Except helps manage errors gracefully."
      ]
    },
    {
      "cell_type": "code",
      "execution_count": null,
      "metadata": {
        "colab": {
          "base_uri": "https://localhost:8080/"
        },
        "id": "N9T9zH0I4xrj",
        "outputId": "ebec5a47-fe13-4a1e-aa09-e07a608fac79"
      },
      "outputs": [],
      "source": [
        "try:\n",
        "    number = int(input(\"Enter a number: \"))\n",
        "    result = 10 / number\n",
        "    print(result)\n",
        "except ValueError:\n",
        "    print(\"Please enter a valid number\")\n",
        "except ZeroDivisionError:\n",
        "    print(\"Cannot divide by zero\")\n",
        "finally:\n",
        "    print(\"This always executes\")"
      ]
    },
    {
      "cell_type": "markdown",
      "metadata": {
        "id": "Ur80yCX95B1E"
      },
      "source": [
        "## **User Input**\n",
        "The input() function allows getting input from users."
      ]
    },
    {
      "cell_type": "code",
      "execution_count": null,
      "metadata": {
        "id": "SEfKn0z75EuS"
      },
      "outputs": [],
      "source": [
        "name = input(\"Enter your name: \")\n",
        "age = int(input(\"Enter your age: \"))\n",
        "print(f\"Hello {name}, you are {age} years old\")"
      ]
    },
    {
      "cell_type": "markdown",
      "metadata": {
        "id": "WpECbuBr5KQX"
      },
      "source": [
        "## **String Formatting**\n",
        "Python offers multiple ways to format strings."
      ]
    },
    {
      "cell_type": "code",
      "execution_count": null,
      "metadata": {
        "colab": {
          "base_uri": "https://localhost:8080/"
        },
        "id": "DwNJ5rqa5Rod",
        "outputId": "02f5b12d-1b86-4799-afc7-12607e4cf83c"
      },
      "outputs": [],
      "source": [
        "name = \"Alice\"\n",
        "age = 25\n",
        "\n",
        "# f-strings (Python 3.6+)\n",
        "print(f\"Name: {name}, Age: {age}\")\n",
        "\n",
        "# .format() method\n",
        "print(\"Name: {}, Age: {}\".format(name, age))\n",
        "\n",
        "# % operator (older style)\n",
        "print(\"Name: %s, Age: %d\" % (name, age))\n",
        "\n",
        "# Template strings\n",
        "from string import Template\n",
        "t = Template(\"Name: $name, Age: $age\")\n",
        "print(t.substitute(name=name, age=age))"
      ]
    },
    {
      "cell_type": "markdown",
      "metadata": {
        "id": "xxLBEcvl7IdU"
      },
      "source": [
        "## **File Handling In Python**\n",
        "\n",
        "Python offers straightforward ways to work with files. Here's how to handle common file operations.\n",
        "\n",
        "```\n",
        "# Basic syntax for opening files\n",
        "file = open('dummy.txt', 'mode')\n",
        "# Using with statement (recommended)\n",
        "with open('dummy.txt', 'mode') as file:\n",
        "    # file operations here\n",
        "```\n",
        "\n",
        "  The common modes are:\n",
        "\n",
        "  1.  'r': Read (default)\n",
        "  2.  'w': Write (overwrites)\n",
        "  3.  'a': Append\n",
        "  4.  'b': Binary mode\n",
        "  5.  '+': Read and write\n",
        "\n",
        "Always use the with statement to ensure proper file closure\n",
        "Handle potential exceptions\n",
        "Use appropriate encoding when dealing with special characters: open('file.txt', 'r', encoding='utf-8')\n"
      ]
    },
    {
      "cell_type": "code",
      "execution_count": 17,
      "metadata": {
        "id": "riWxtfmd857g"
      },
      "outputs": [],
      "source": [
        "# Writing in existing file\n",
        "with open('dummy.txt', 'w') as file:\n",
        "    file.write('Hello, World!')\n",
        "\n",
        "# Write multiple lines\n",
        "with open('dummy.txt', 'w') as file:\n",
        "    file.writelines(['Line 1\\n', 'Line 2\\n'])"
      ]
    },
    {
      "cell_type": "code",
      "execution_count": null,
      "metadata": {
        "colab": {
          "base_uri": "https://localhost:8080/"
        },
        "id": "o_Md4mAx8YpV",
        "outputId": "c93ff87f-b685-40b3-fa0e-f2766b84561f"
      },
      "outputs": [],
      "source": [
        "# Open and read existing file\n",
        "# Read entire file\n",
        "with open('dummy.txt', 'r') as file:\n",
        "    content = file.read()\n",
        "    print(content)\n",
        "\n",
        "# Read line by line\n",
        "with open('dummy.txt', 'r') as file:\n",
        "    for line in file:\n",
        "        print(line)\n",
        "    print(file.tell())\n",
        "\n",
        "# Read into list of lines\n",
        "with open('dummy.txt', 'r') as file:\n",
        "    lines = file.readlines()\n",
        "    print(lines)\n",
        "    file.seek(0)\n",
        "    print(file.tell())"
      ]
    },
    {
      "cell_type": "code",
      "execution_count": null,
      "metadata": {
        "colab": {
          "base_uri": "https://localhost:8080/"
        },
        "id": "J49kzf_1-HCz",
        "outputId": "53575d0d-3eaa-46c6-de45-b0902d5ad497"
      },
      "outputs": [],
      "source": [
        "# Error Handling\n",
        "try:\n",
        "    with open('file.txt', 'r') as file:\n",
        "        content = file.read()\n",
        "except FileNotFoundError:\n",
        "    print(\"File doesn't exist\")\n",
        "except PermissionError:\n",
        "    print(\"Permission denied\")"
      ]
    },
    {
      "cell_type": "markdown",
      "metadata": {
        "id": "36JoqeXBAIFa"
      },
      "source": [
        "### **Creating files**\n",
        "While creating files, make sure you close the resource using with.\n",
        "\n",
        "Few important takeaways:\n",
        "\n",
        "  - Use 'w' when you want to write content immediately\n",
        "  - Use 'a' when you want to ensure existing content isn't erased\n",
        "  - Use 'x' when you want to ensure you don't accidentally overwrite an existing file\n",
        "  - Use the touch-like method when you just want to create an empty file or update timestamp"
      ]
    },
    {
      "cell_type": "code",
      "execution_count": 33,
      "metadata": {
        "id": "UV7r8bak-nKs"
      },
      "outputs": [],
      "source": [
        "# Create files\n",
        "\n",
        "# Method 1: Using write mode 'w'\n",
        "# Creates new file or overwrites existing one\n",
        "with open('new_file.txt', 'w') as file:\n",
        "    file.write('Hello, this is my new file!')\n",
        "\n",
        "# Method 2: Using append mode 'a'\n",
        "# Creates new file if it doesn't exist\n",
        "with open('another_file.txt', 'a') as file:\n",
        "    file.write('Adding content to file')\n",
        "\n",
        "# Method 3: Create empty file using open()\n",
        "with open('empty_file.txt', 'x') as file:\n",
        "    pass  # 'x' mode fails if file already exists\n",
        "\n",
        "# Method 4: Using touch()-like functionality\n",
        "try:\n",
        "    with open('touch_file.txt', 'a'):\n",
        "        os.utime('touch_file.txt', None)  # Updates timestamp\n",
        "except FileNotFoundError:\n",
        "    print(\"Failed to create file\")"
      ]
    },
    {
      "cell_type": "code",
      "execution_count": null,
      "metadata": {
        "colab": {
          "base_uri": "https://localhost:8080/"
        },
        "id": "P0G-RwMR-lTQ",
        "outputId": "8d1bbc64-56a0-452a-dc5c-1eb6138ac316"
      },
      "outputs": [],
      "source": [
        "# Deleting Files\n",
        "import os\n",
        "\n",
        "if os.path.exists('new_file.txt'):\n",
        "    os.remove('new_file.txt')\n",
        "    print(\"File deleted successfully\")\n",
        "else:\n",
        "    print(\"File doesn't exist\")"
      ]
    },
    {
      "cell_type": "code",
      "execution_count": 39,
      "metadata": {
        "id": "WUdbvYM0_tP1"
      },
      "outputs": [],
      "source": [
        "# Create file in specific folder\n",
        "import os\n",
        "\n",
        "# Create file in specific path\n",
        "path = os.path.join('sample_data',\"test\", 'file.txt')\n",
        "os.makedirs(os.path.dirname(path), exist_ok=True)  # Create directories if they don't exist\n",
        "with open(path, 'w') as file:\n",
        "    file.write('File in new directory')"
      ]
    }
  ],
  "metadata": {
    "colab": {
      "provenance": []
    },
    "kernelspec": {
      "display_name": "Python 3",
      "name": "python3"
    },
    "language_info": {
      "name": "python"
    }
  },
  "nbformat": 4,
  "nbformat_minor": 0
}
