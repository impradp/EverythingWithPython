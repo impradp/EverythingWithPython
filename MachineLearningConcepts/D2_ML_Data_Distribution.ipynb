{
  "cells": [
    {
      "cell_type": "markdown",
      "metadata": {
        "id": "aWZdDOryBGgs"
      },
      "source": [
        "# **Data Sets**\n",
        "\n",
        "In the real world, the data sets are much bigger, but it can be difficult to gather real world data, at least at an early stage of a project.\n",
        "\n",
        "## **Big Data Sets**\n",
        "To create big data sets for testing, we use the Python module NumPy, which comes with a number of methods to create random data sets, of any size."
      ]
    },
    {
      "cell_type": "code",
      "execution_count": null,
      "metadata": {
        "colab": {
          "base_uri": "https://localhost:8080/"
        },
        "id": "NlFC9ozOBtnp",
        "outputId": "ec35b171-4171-4e2e-ea29-ef93c14b5600"
      },
      "outputs": [],
      "source": [
        "# Creatiing 250 random floats between 0 and 5\n",
        "import numpy\n",
        "\n",
        "x = numpy.random.uniform(0.0, 5.0, 250)\n",
        "\n",
        "print(x)"
      ]
    },
    {
      "cell_type": "markdown",
      "metadata": {
        "id": "2yc6gvF4B8Xo"
      },
      "source": [
        "## **Histogram**\n",
        "While working with number of datas in the program, histogram is often used to properly have a visualization of distribution of the data sets.\n",
        "\n",
        "In the below example,\n",
        "\n",
        "- We use the array from the example above to draw a histogram with 5 bars.\n",
        "- The first bar represents how many values in the array are between 0 and 1.\n",
        "- The second bar represents how many values are between 1 and 2."
      ]
    },
    {
      "cell_type": "code",
      "execution_count": null,
      "metadata": {
        "colab": {
          "base_uri": "https://localhost:8080/",
          "height": 430
        },
        "id": "_2-YZ7ItCWct",
        "outputId": "c7a6637a-386d-49ed-bb43-c1cc400f64b1"
      },
      "outputs": [],
      "source": [
        "# Using matplotlib's pyplot to visualize the data sets distribution.\n",
        "\n",
        "import numpy\n",
        "import matplotlib.pyplot as plt\n",
        "\n",
        "x = numpy.random.uniform(0.0, 5.0, 250)\n",
        "\n",
        "plt.hist(x, 5)\n",
        "plt.show()"
      ]
    },
    {
      "cell_type": "markdown",
      "metadata": {
        "id": "erZszQ7CDnX7"
      },
      "source": [
        "## **Normal Data Distribution(Gaussian data distribution)**\n",
        "If an array of data are concentrated around a single value, then it is termed as normal data distribution.\n",
        "\n",
        "In the example below:\n",
        "\n",
        "We use the array from the numpy.random.normal() method, with 100000 values,  to draw a histogram with 100 bars.\n",
        "\n",
        "We specify that the mean value is 5.0, and the standard deviation is 1.0.\n",
        "- Meaning that the values should be concentrated around 5.0, and rarely further away than 1.0 from the mean.\n",
        "- And as you can see from the histogram, most values are between 4.0 and 6.0, with a top at approximately 5.0."
      ]
    },
    {
      "cell_type": "code",
      "execution_count": null,
      "metadata": {
        "colab": {
          "base_uri": "https://localhost:8080/",
          "height": 430
        },
        "id": "e24hRvVQFYxg",
        "outputId": "c1657dd3-3315-4cc5-bff9-27c30c5237ef"
      },
      "outputs": [],
      "source": [
        "# Creating normal data distribution\n",
        "import numpy\n",
        "import matplotlib.pyplot as plt\n",
        "\n",
        "x = numpy.random.normal(5.0, 1.0, 100000)\n",
        "\n",
        "plt.hist(x, 100)\n",
        "plt.show()"
      ]
    },
    {
      "cell_type": "markdown",
      "metadata": {
        "id": "8TVQmNGXGHEv"
      },
      "source": [
        "## **Scatter Plot**\n",
        "A scatter plot is a type of data visualization that shows the relationship between two variables by displaying points on a two-dimensional coordinate system.\n",
        "\n",
        "Scatter plot method from matplotlib takes two arrays of the same length, one for the values of the x-axis, and one for the values of the y-axis."
      ]
    },
    {
      "cell_type": "code",
      "execution_count": null,
      "metadata": {
        "colab": {
          "base_uri": "https://localhost:8080/",
          "height": 430
        },
        "id": "dkdVoaqMHO96",
        "outputId": "b78707fd-9f4e-44d3-be8d-cdf83cd1b8ae"
      },
      "outputs": [],
      "source": [
        "# Creating scatter plot for data visualization\n",
        "import matplotlib.pyplot as plt\n",
        "\n",
        "x = [5,7,8,7,2,17,2,9,4,11,12,9,6]\n",
        "y = [99,86,87,88,111,86,103,87,94,78,77,85,86]\n",
        "\n",
        "plt.scatter(x, y)\n",
        "plt.show()"
      ]
    },
    {
      "cell_type": "markdown",
      "metadata": {
        "id": "n0bQ1XhmHeh5"
      },
      "source": [
        "## **Random Data Distributions**\n",
        "In Machine Learning the data sets can contain thousands-, or even millions, of values.\n",
        "\n",
        "When it comes to testing out the machine learning algorithms, huge data sets are required for which the values are to be generated randomly.\n",
        "\n",
        "Let us create two arrays that are both filled with 1000 random numbers from a normal data distribution.\n",
        "\n",
        "- The first array will have the mean set to 5.0 with a standard deviation of 1.0.\n",
        "- The second array will have the mean set to 10.0 with a standard deviation of 2.0.\n",
        "\n",
        "***Output***\n",
        "\n",
        "- We can see that the dots are concentrated around the value 5 on the x-axis, and 10 on the y-axis.\n",
        "- We can also see that the spread is wider on the y-axis than on the x-axis."
      ]
    },
    {
      "cell_type": "code",
      "execution_count": null,
      "metadata": {
        "colab": {
          "base_uri": "https://localhost:8080/",
          "height": 430
        },
        "id": "gwRtKcIzIXTy",
        "outputId": "578d6bd2-6dbd-43a3-e6cf-b87f7e58d7bf"
      },
      "outputs": [],
      "source": [
        "# Creating 1000 plots randomly.\n",
        "import numpy\n",
        "import matplotlib.pyplot as plt\n",
        "\n",
        "x = numpy.random.normal(5.0, 1.0, 1000)\n",
        "y = numpy.random.normal(10.0, 2.0, 1000)\n",
        "\n",
        "plt.scatter(x, y)\n",
        "plt.show()"
      ]
    },
    {
      "cell_type": "markdown",
      "metadata": {
        "id": "2dKp6Z5IJBJk"
      },
      "source": [
        "## **Regression**\n",
        "\n",
        "Regression is used when you try to find the relationship between variables.\n",
        "\n",
        "In Machine Learning, and in statistical modeling, that relationship is used to predict the outcome of future events.\n",
        "\n",
        "### **Linear Regression**\n",
        "Linear regression uses the relationship between the data-points to draw a straight line through all them.\n",
        "\n",
        "This line can be used to predict future values.\n",
        "\n",
        "***In the example below,***\n",
        "\n",
        "In the example below, the x-axis represents age, and the y-axis represents speed. We have registered the age and speed of 13 cars as they were passing a tollbooth."
      ]
    },
    {
      "cell_type": "code",
      "execution_count": null,
      "metadata": {
        "colab": {
          "base_uri": "https://localhost:8080/",
          "height": 430
        },
        "id": "laVK9_9EKBGw",
        "outputId": "2aa94859-dbb2-4a45-d6b8-918670b845e1"
      },
      "outputs": [],
      "source": [
        "import matplotlib.pyplot as plt\n",
        "from scipy import stats\n",
        "\n",
        "x = [5,7,8,7,2,17,2,9,4,11,12,9,6]\n",
        "y = [99,86,87,88,111,86,103,87,94,78,77,85,86]\n",
        "\n",
        "slope, intercept, r, p, std_err = stats.linregress(x, y)\n",
        "\n",
        "def myfunc(x):\n",
        "  return slope * x + intercept\n",
        "\n",
        "mymodel = list(map(myfunc, x))\n",
        "\n",
        "plt.scatter(x, y)\n",
        "plt.plot(x, mymodel)\n",
        "plt.show()"
      ]
    }
  ],
  "metadata": {
    "colab": {
      "provenance": []
    },
    "kernelspec": {
      "display_name": "Python 3",
      "name": "python3"
    },
    "language_info": {
      "name": "python"
    }
  },
  "nbformat": 4,
  "nbformat_minor": 0
}
