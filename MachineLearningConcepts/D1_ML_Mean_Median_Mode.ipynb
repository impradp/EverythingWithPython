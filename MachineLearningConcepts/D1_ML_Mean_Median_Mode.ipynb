{
  "cells": [
    {
      "cell_type": "markdown",
      "metadata": {
        "id": "VKqT92dWE0AU"
      },
      "source": [
        "# **Machine Learning(Getting Started)**\n",
        "\n",
        "## **Machine Learning**\n",
        "\n",
        "  - Machine Learning is making the computer learn from studying data and statistics.\n",
        "  - Machine Learning is a step into the direction of artificial intelligence (AI).\n",
        "  - Machine Learning is a program that analyses data and learns to predict the outcome."
      ]
    },
    {
      "cell_type": "markdown",
      "metadata": {
        "id": "tks13uzGFSvS"
      },
      "source": [
        "## **Data Sets**\n",
        "In the mind of a computer, a data set is any collection of data. It can be anything from an array to a complete database.\n",
        "\n",
        "Example of an array:\n",
        "\n",
        "    [99,86,87,88,111,86,103,87,94,78,77,85,86]\n",
        "\n",
        "Example of a database:\n",
        "  \n",
        "    Here's a simple database table using markdown:\n",
        "\n",
        "| ID | First Name | Last Name | Email | Age | Program |\n",
        "|----|------------|-----------|-------|-----|---------|\n",
        "| 1 | John | Smith | john.smith@email.com | 32 | Masters |\n",
        "| 2 | Sarah | Johnson | sarah.j@email.com | 28 | Masters  |\n",
        "| 3 | Pradip | Puri | impradp@email.com | 45 | PhD |\n",
        "| 4 | Emma | Brown | emma.b@email.com | 35 | PhD |\n",
        "| 5 | Michael | Williams | mike.w@email.com | 22 | Bachelors |\n",
        "\n",
        "\n",
        "By looking at the array, we can guess that the average value is probably around 80 or 90, and we are also able to determine the highest value and the lowest value, but what else can we do?\n",
        "\n",
        "And by looking at the database we can see that the most popular program is Masters, and the youngest student to take program is 22 years, but what if we could predict if a student had a PhD program, just by looking at the other values?\n",
        "\n",
        "That is what Machine Learning is for! Analyzing data and predicting the outcome!"
      ]
    },
    {
      "cell_type": "markdown",
      "metadata": {
        "id": "o8JSaq6JHYsH"
      },
      "source": [
        "## **Data Types**\n",
        "\n",
        "Let me explain the key data types commonly encountered in machine learning.\n",
        "\n",
        "Numerical Data:\n",
        "- Continuous: Values that can take any number within a range (e.g., height, weight, temperature, prices)\n",
        "- Discrete: Count values or whole numbers (e.g., number of rooms, count of items)\n",
        "\n",
        "Categorical Data:\n",
        "- Nominal: Categories with no inherent order (e.g., colors, product names, cities)\n",
        "- Ordinal: Categories with a meaningful order (e.g., education level, customer satisfaction ratings)\n",
        "- Binary: Data with only two possible values (e.g., yes/no, true/false)\n",
        "\n",
        "Time Series Data:\n",
        "Data points collected over time at regular intervals (e.g., stock prices, weather measurements, sales figures)\n",
        "\n",
        "Text Data:\n",
        "Unstructured text that requires natural language processing (e.g., customer reviews, social media posts, articles)\n",
        "\n",
        "Image Data:\n",
        "Digital images represented as matrices of pixel values, commonly used in computer vision tasks\n",
        "\n",
        "Audio Data:\n",
        "Sound recordings represented as waveforms or spectrograms\n",
        "\n",
        "Video Data:\n",
        "Sequences of images with temporal information\n",
        "\n",
        "Each data type requires specific preprocessing techniques:\n",
        "- Numerical data often needs scaling or normalization\n",
        "- Categorical data typically requires encoding (one-hot, label, or ordinal encoding)\n",
        "- Text data needs tokenization, vectorization, or embedding\n",
        "- Image and audio data usually require normalization and may need resizing or feature extraction"
      ]
    },
    {
      "cell_type": "markdown",
      "metadata": {
        "id": "i2N730URHoAB"
      },
      "source": [
        "## **Mean**\n",
        "The average value from the given datasets.\n",
        "\n",
        "To calculate the mean, find the sum of all values, and divide the sum by the number of values.\n",
        "\n",
        "    (99+86+87+88+111+86+103+87+94+78+77+85+86) / 13 = 89.77\n",
        "\n"
      ]
    },
    {
      "cell_type": "code",
      "execution_count": null,
      "metadata": {
        "id": "pxIDJEi8H1v0"
      },
      "outputs": [],
      "source": [
        "# Calculating the mean using numpy library/module\n",
        "import numpy\n",
        "\n",
        "speed = [99,86,87,88,111,86,103,87,94,78,77,85,86]\n",
        "\n",
        "x = numpy.mean(speed)\n",
        "\n",
        "print(x)"
      ]
    },
    {
      "cell_type": "markdown",
      "metadata": {
        "id": "ToAVgK9RIGHC"
      },
      "source": [
        "## **Median**\n",
        "The median value is the value in the middle, after you have sorted all the values.\n",
        "                            \n",
        "    77, 78, 85, 86, 86, 86, 87, 87, 88, 94, 99, 103, 111"
      ]
    },
    {
      "cell_type": "code",
      "execution_count": null,
      "metadata": {
        "colab": {
          "base_uri": "https://localhost:8080/"
        },
        "id": "aMAI2a58IYBl",
        "outputId": "40875f80-6498-47f2-a8ab-25de63819c70"
      },
      "outputs": [],
      "source": [
        "# Calculating median\n",
        "import numpy\n",
        "\n",
        "speed = [99,86,87,88,111,86,103,87,94,78,77,85,86]\n",
        "\n",
        "x = numpy.median(speed)\n",
        "\n",
        "print(x)"
      ]
    },
    {
      "cell_type": "markdown",
      "metadata": {
        "id": "KG6OrXBeIhym"
      },
      "source": [
        "## **Mode**\n",
        "The Mode value is the value that appears the most number of times.\n",
        "\n",
        "      99, 86, 87, 88, 111, 86, 103, 87, 94, 78, 77, 85, 86 = 86\n",
        "\n"
      ]
    },
    {
      "cell_type": "code",
      "execution_count": null,
      "metadata": {
        "id": "JX5rpjspIuD6"
      },
      "outputs": [],
      "source": [
        "# Calculating mode from scipy\n",
        "from scipy import stats\n",
        "\n",
        "speed = [99,86,87,88,111,86,103,87,94,78,77,85,86]\n",
        "\n",
        "x = stats.mode(speed)\n",
        "\n",
        "print(x)"
      ]
    }
  ],
  "metadata": {
    "colab": {
      "provenance": []
    },
    "kernelspec": {
      "display_name": "Python 3",
      "name": "python3"
    },
    "language_info": {
      "name": "python"
    }
  },
  "nbformat": 4,
  "nbformat_minor": 0
}
